{
  "nbformat": 4,
  "nbformat_minor": 0,
  "metadata": {
    "colab": {
      "name": "Tensorflow.ipynb",
      "provenance": [],
      "toc_visible": true,
      "authorship_tag": "ABX9TyO6XHsn1H4hEwCumcD7diXU",
      "include_colab_link": true
    },
    "kernelspec": {
      "name": "python3",
      "display_name": "Python 3"
    },
    "language_info": {
      "name": "python"
    },
    "accelerator": "GPU"
  },
  "cells": [
    {
      "cell_type": "markdown",
      "metadata": {
        "id": "view-in-github",
        "colab_type": "text"
      },
      "source": [
        "<a href=\"https://colab.research.google.com/github/VanNguyenThiCam/Frameworks/blob/main/Tensorflow.ipynb\" target=\"_parent\"><img src=\"https://colab.research.google.com/assets/colab-badge.svg\" alt=\"Open In Colab\"/></a>"
      ]
    },
    {
      "cell_type": "markdown",
      "source": [
        "# TENSOR\n",
        "\n",
        "\n",
        "* numpy thao tác trên mảng đa chiều và hỗ trợ được nhiều thứ \n",
        "\n",
        "* numpy chỉ chạy được trên CPU, người ta cần tìm cái tương tự numpy là tensor chạy được trên GPU\n",
        "\n",
        "* tensorflow có thể chạy được trên cả CPU và GPU\n",
        "\n"
      ],
      "metadata": {
        "id": "vBttHKSrsmHh"
      }
    },
    {
      "cell_type": "code",
      "execution_count": 4,
      "metadata": {
        "id": "f052ABiPsG5j",
        "colab": {
          "base_uri": "https://localhost:8080/"
        },
        "outputId": "879daff9-ba38-449f-d758-c6f49a9235ed"
      },
      "outputs": [
        {
          "output_type": "stream",
          "name": "stdout",
          "text": [
            "2.8.0\n",
            "[PhysicalDevice(name='/physical_device:GPU:0', device_type='GPU')]\n"
          ]
        }
      ],
      "source": [
        "import tensorflow as tf\n",
        "\n",
        "print(tf.__version__) #kiểm tra version tensorflow trên google colab\n",
        "\n",
        "print(tf.config.list_physical_devices('GPU')) #kiểm tra có chạy trên GPU không"
      ]
    },
    {
      "cell_type": "markdown",
      "source": [
        "# Đưa một list numpy về dạng tensor\n"
      ],
      "metadata": {
        "id": "fI7CNIcqi67f"
      }
    },
    {
      "cell_type": "markdown",
      "source": [
        "**Ví dụ 1** "
      ],
      "metadata": {
        "id": "bc141YoonrZs"
      }
    },
    {
      "cell_type": "code",
      "source": [
        "import tensorflow as tf\n",
        "import numpy as np"
      ],
      "metadata": {
        "id": "wr2zhwA5jD_P"
      },
      "execution_count": 5,
      "outputs": []
    },
    {
      "cell_type": "code",
      "source": [
        "a_list = [1,2,3,4]\n",
        "data_np = np.array(a_list)\n",
        "\n",
        "print(data_np)\n",
        "print(type(data_np))"
      ],
      "metadata": {
        "colab": {
          "base_uri": "https://localhost:8080/"
        },
        "id": "U-dd7vvgjJ8H",
        "outputId": "f06fe8c6-26c4-4ad6-8626-2ce48898975b"
      },
      "execution_count": 7,
      "outputs": [
        {
          "output_type": "stream",
          "name": "stdout",
          "text": [
            "[1 2 3 4]\n",
            "<class 'numpy.ndarray'>\n"
          ]
        }
      ]
    },
    {
      "cell_type": "code",
      "source": [
        "#chuyển từ nparray tới tensor\n",
        "\n",
        "a_tensor = tf.convert_to_tensor(a_list)\n",
        "print(a_tensor)"
      ],
      "metadata": {
        "colab": {
          "base_uri": "https://localhost:8080/"
        },
        "id": "sQx4vozfjREV",
        "outputId": "07496026-3f09-4cfb-f949-dc1c72f97bf0"
      },
      "execution_count": 9,
      "outputs": [
        {
          "output_type": "stream",
          "name": "stdout",
          "text": [
            "tf.Tensor([1 2 3 4], shape=(4,), dtype=int32)\n"
          ]
        }
      ]
    },
    {
      "cell_type": "markdown",
      "source": [
        "**Ví dụ 2**"
      ],
      "metadata": {
        "id": "ESmXpmrrn1N4"
      }
    },
    {
      "cell_type": "code",
      "source": [
        "#tạo mảng 2x3\n",
        "import tensorflow as tf\n",
        "import numpy as np\n",
        "a_array = np.array([[1,2],[2,3],[5,6]])\n",
        "print(a_array)\n",
        "\n",
        "a_tensor = tf.convert_to_tensor(a_array)\n",
        "print(a_tensor)\n",
        "\n",
        "print(a_tensor.shape) #in ra kích cỡ của tensor\n",
        "\n",
        "print(a_tensor.dtype) #in ra loại của của tensor\n",
        "\n",
        "print(a_tensor.ndim) #in ra số chiều của tensor"
      ],
      "metadata": {
        "colab": {
          "base_uri": "https://localhost:8080/"
        },
        "id": "tTIOV2zunQFF",
        "outputId": "9266de2a-371e-4160-eaa2-8db911e3d1df"
      },
      "execution_count": 14,
      "outputs": [
        {
          "output_type": "stream",
          "name": "stdout",
          "text": [
            "[[1 2]\n",
            " [2 3]\n",
            " [5 6]]\n",
            "tf.Tensor(\n",
            "[[1 2]\n",
            " [2 3]\n",
            " [5 6]], shape=(3, 2), dtype=int64)\n",
            "(3, 2)\n",
            "<dtype: 'int64'>\n",
            "2\n"
          ]
        }
      ]
    },
    {
      "cell_type": "markdown",
      "source": [
        "# Một số hàm hay sử dụng "
      ],
      "metadata": {
        "id": "4BDoulx2lFfj"
      }
    },
    {
      "cell_type": "code",
      "source": [
        ""
      ],
      "metadata": {
        "id": "hKkoN144lK_0"
      },
      "execution_count": null,
      "outputs": []
    }
  ]
}