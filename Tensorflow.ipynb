{
  "nbformat": 4,
  "nbformat_minor": 0,
  "metadata": {
    "colab": {
      "name": "Tensorflow.ipynb",
      "provenance": [],
      "toc_visible": true,
      "authorship_tag": "ABX9TyMDuJZpiayOAvhfFfznGJnF",
      "include_colab_link": true
    },
    "kernelspec": {
      "name": "python3",
      "display_name": "Python 3"
    },
    "language_info": {
      "name": "python"
    },
    "accelerator": "GPU"
  },
  "cells": [
    {
      "cell_type": "markdown",
      "metadata": {
        "id": "view-in-github",
        "colab_type": "text"
      },
      "source": [
        "<a href=\"https://colab.research.google.com/github/VanNguyenThiCam/Frameworks/blob/main/Tensorflow.ipynb\" target=\"_parent\"><img src=\"https://colab.research.google.com/assets/colab-badge.svg\" alt=\"Open In Colab\"/></a>"
      ]
    },
    {
      "cell_type": "markdown",
      "source": [
        "# TENSOR\n",
        "\n",
        "\n",
        "* numpy thao tác trên mảng đa chiều và hỗ trợ được nhiều thứ \n",
        "\n",
        "* numpy chỉ chạy được trên CPU, người ta cần tìm cái tương tự numpy là tensor chạy được trên GPU\n",
        "\n",
        "* tensorflow có thể chạy được trên cả CPU và GPU\n",
        "\n"
      ],
      "metadata": {
        "id": "vBttHKSrsmHh"
      }
    },
    {
      "cell_type": "code",
      "execution_count": null,
      "metadata": {
        "id": "f052ABiPsG5j",
        "colab": {
          "base_uri": "https://localhost:8080/"
        },
        "outputId": "879daff9-ba38-449f-d758-c6f49a9235ed"
      },
      "outputs": [
        {
          "output_type": "stream",
          "name": "stdout",
          "text": [
            "2.8.0\n",
            "[PhysicalDevice(name='/physical_device:GPU:0', device_type='GPU')]\n"
          ]
        }
      ],
      "source": [
        "import tensorflow as tf\n",
        "\n",
        "print(tf.__version__) #kiểm tra version tensorflow trên google colab\n",
        "\n",
        "print(tf.config.list_physical_devices('GPU')) #kiểm tra có chạy trên GPU không"
      ]
    },
    {
      "cell_type": "markdown",
      "source": [
        "# Đưa một list numpy về dạng tensor\n"
      ],
      "metadata": {
        "id": "fI7CNIcqi67f"
      }
    },
    {
      "cell_type": "markdown",
      "source": [
        "**Ví dụ 1** "
      ],
      "metadata": {
        "id": "bc141YoonrZs"
      }
    },
    {
      "cell_type": "code",
      "source": [
        "import tensorflow as tf\n",
        "import numpy as np"
      ],
      "metadata": {
        "id": "wr2zhwA5jD_P"
      },
      "execution_count": null,
      "outputs": []
    },
    {
      "cell_type": "code",
      "source": [
        "a_list = [1,2,3,4]\n",
        "data_np = np.array(a_list)\n",
        "\n",
        "print(data_np)\n",
        "print(type(data_np))"
      ],
      "metadata": {
        "colab": {
          "base_uri": "https://localhost:8080/"
        },
        "id": "U-dd7vvgjJ8H",
        "outputId": "f06fe8c6-26c4-4ad6-8626-2ce48898975b"
      },
      "execution_count": null,
      "outputs": [
        {
          "output_type": "stream",
          "name": "stdout",
          "text": [
            "[1 2 3 4]\n",
            "<class 'numpy.ndarray'>\n"
          ]
        }
      ]
    },
    {
      "cell_type": "code",
      "source": [
        "#chuyển từ nparray tới tensor\n",
        "\n",
        "a_tensor = tf.convert_to_tensor(a_list)\n",
        "print(a_tensor)"
      ],
      "metadata": {
        "colab": {
          "base_uri": "https://localhost:8080/"
        },
        "id": "sQx4vozfjREV",
        "outputId": "07496026-3f09-4cfb-f949-dc1c72f97bf0"
      },
      "execution_count": null,
      "outputs": [
        {
          "output_type": "stream",
          "name": "stdout",
          "text": [
            "tf.Tensor([1 2 3 4], shape=(4,), dtype=int32)\n"
          ]
        }
      ]
    },
    {
      "cell_type": "markdown",
      "source": [
        "**Ví dụ 2**"
      ],
      "metadata": {
        "id": "ESmXpmrrn1N4"
      }
    },
    {
      "cell_type": "code",
      "source": [
        "#tạo mảng 2x3\n",
        "import tensorflow as tf\n",
        "import numpy as np\n",
        "a_array = np.array([[1,2],[2,3],[5,6]])\n",
        "print(a_array)\n",
        "\n",
        "a_tensor = tf.convert_to_tensor(a_array)\n",
        "print(a_tensor)\n",
        "\n",
        "print(a_tensor.shape) #in ra kích cỡ của tensor\n",
        "\n",
        "print(a_tensor.dtype) #in ra loại của của tensor\n",
        "\n",
        "print(a_tensor.ndim) #in ra số chiều của tensor"
      ],
      "metadata": {
        "colab": {
          "base_uri": "https://localhost:8080/"
        },
        "id": "tTIOV2zunQFF",
        "outputId": "490c1de6-1e97-4a3c-dc11-f2a4652ed3e9"
      },
      "execution_count": null,
      "outputs": [
        {
          "output_type": "stream",
          "name": "stdout",
          "text": [
            "[[1 2]\n",
            " [2 3]\n",
            " [5 6]]\n",
            "tf.Tensor(\n",
            "[[1 2]\n",
            " [2 3]\n",
            " [5 6]], shape=(3, 2), dtype=int64)\n",
            "(3, 2)\n",
            "<dtype: 'int64'>\n",
            "2\n"
          ]
        }
      ]
    },
    {
      "cell_type": "code",
      "source": [
        "a_list = [1,2,3,4]\n",
        "a_tensor_reshape = tf.reshape(tf.convert_to_tensor(a_list),(2,2))\n",
        "print(a_tensor_reshape)\n",
        "print(a_tensor_reshape.shape)"
      ],
      "metadata": {
        "colab": {
          "base_uri": "https://localhost:8080/"
        },
        "id": "c6txa_tXr5rR",
        "outputId": "1195286a-8d41-49ba-9745-b01dd3482bfa"
      },
      "execution_count": null,
      "outputs": [
        {
          "output_type": "stream",
          "name": "stdout",
          "text": [
            "tf.Tensor(\n",
            "[[1 2]\n",
            " [3 4]], shape=(2, 2), dtype=int32)\n",
            "(2, 2)\n"
          ]
        }
      ]
    },
    {
      "cell_type": "markdown",
      "source": [
        "# Broadcasting\n",
        "\n",
        "Khi lấy tensor cộng cho 1 số/ tensor không cùng shape thì\n",
        "\n",
        "* Con số đó được chuyển đổi cùng shape với tensor để nó thực hiện phép cộng.\n",
        "\n",
        "* Tensor không cùng shape cũng được biến thành cùng shape để thực hiện phép cộng\n",
        "\n"
      ],
      "metadata": {
        "id": "4BDoulx2lFfj"
      }
    },
    {
      "cell_type": "markdown",
      "source": [
        "**Ví dụ 1**"
      ],
      "metadata": {
        "id": "tu5Je5uE4jDV"
      }
    },
    {
      "cell_type": "code",
      "source": [
        "import tensorflow as tf\n",
        "import numpy as np\n",
        "\n",
        "tensor_1 = tf.convert_to_tensor([[1,2],[3,4]])\n",
        "tensor_2 = tf.convert_to_tensor(1)\n",
        "\n",
        "tensor_3 = tensor_1 + tensor_2\n",
        "\n",
        "print('tensor_1: \\n', tensor_1)\n",
        "print('tensor_2: \\n', tensor_2)\n",
        "print('tensor_3: \\n', tensor_3)"
      ],
      "metadata": {
        "colab": {
          "base_uri": "https://localhost:8080/"
        },
        "id": "hKkoN144lK_0",
        "outputId": "ed7a13c1-06d9-4aa9-d6e3-7f9420c55eb9"
      },
      "execution_count": null,
      "outputs": [
        {
          "output_type": "stream",
          "name": "stdout",
          "text": [
            "tensor_1: \n",
            " tf.Tensor(\n",
            "[[1 2]\n",
            " [3 4]], shape=(2, 2), dtype=int32)\n",
            "tensor_2: \n",
            " tf.Tensor(1, shape=(), dtype=int32)\n",
            "tensor_3: \n",
            " tf.Tensor(\n",
            "[[2 3]\n",
            " [4 5]], shape=(2, 2), dtype=int32)\n"
          ]
        }
      ]
    },
    {
      "cell_type": "markdown",
      "source": [
        "**Ví dụ 2**"
      ],
      "metadata": {
        "id": "t4BumBmx4mZY"
      }
    },
    {
      "cell_type": "code",
      "source": [
        "import tensorflow as tf\n",
        "import numpy as np\n",
        "\n",
        "np_data = np.array(range(1,13)).reshape(4,3)\n",
        "tensor_1 = tf.convert_to_tensor(np_data)\n",
        "\n",
        "tensor_2 = tf.convert_to_tensor([1,0,1])\n",
        "\n",
        "#tensor_3 = tensor_1 + tensor_2 #khác kiểu không thể cộng\n",
        "\n",
        "print('tensor_1: \\n', tensor_1)\n",
        "print('tensor_2: \\n', tensor_2)\n",
        "#print('tensor_3: \\n', tensor_3)"
      ],
      "metadata": {
        "colab": {
          "base_uri": "https://localhost:8080/"
        },
        "id": "xSdvgEu44YVN",
        "outputId": "c80caf68-1d90-46f4-b6fe-b29d0609b4f8"
      },
      "execution_count": null,
      "outputs": [
        {
          "output_type": "stream",
          "name": "stdout",
          "text": [
            "tensor_1: \n",
            " tf.Tensor(\n",
            "[[ 1  2  3]\n",
            " [ 4  5  6]\n",
            " [ 7  8  9]\n",
            " [10 11 12]], shape=(4, 3), dtype=int64)\n",
            "tensor_2: \n",
            " tf.Tensor([1 0 1], shape=(3,), dtype=int32)\n"
          ]
        }
      ]
    },
    {
      "cell_type": "code",
      "source": [
        "#Cách khắc phục là ép kiểu\n",
        "\n",
        "import tensorflow as tf\n",
        "import numpy as np\n",
        "\n",
        "np_data = np.array(range(1,13)).reshape(4,3)\n",
        "tensor_1 = tf.convert_to_tensor(np_data)\n",
        "\n",
        "tensor_2 = tf.convert_to_tensor([1,0,1],dtype = tf.int64)\n",
        "\n",
        "tensor_3 = tensor_1 + tensor_2 #khác kiểu không thể cộng\n",
        "\n",
        "print('tensor_1: \\n', tensor_1)\n",
        "print('tensor_2: \\n', tensor_2)\n",
        "print('tensor_3: \\n', tensor_3)"
      ],
      "metadata": {
        "colab": {
          "base_uri": "https://localhost:8080/"
        },
        "id": "26DOuOn2MtGY",
        "outputId": "0a4ddbc5-e19e-4bd1-fb01-576445f97674"
      },
      "execution_count": null,
      "outputs": [
        {
          "output_type": "stream",
          "name": "stdout",
          "text": [
            "tensor_1: \n",
            " tf.Tensor(\n",
            "[[ 1  2  3]\n",
            " [ 4  5  6]\n",
            " [ 7  8  9]\n",
            " [10 11 12]], shape=(4, 3), dtype=int64)\n",
            "tensor_2: \n",
            " tf.Tensor([1 0 1], shape=(3,), dtype=int64)\n",
            "tensor_3: \n",
            " tf.Tensor(\n",
            "[[ 2  2  4]\n",
            " [ 5  5  7]\n",
            " [ 8  8 10]\n",
            " [11 11 13]], shape=(4, 3), dtype=int64)\n"
          ]
        }
      ]
    },
    {
      "cell_type": "markdown",
      "source": [
        "# Một số hàm quan trọng"
      ],
      "metadata": {
        "id": "iCIfVGTa_zcK"
      }
    },
    {
      "cell_type": "markdown",
      "source": [
        "**Squared Difference**"
      ],
      "metadata": {
        "id": "mC_UyHvr_6T3"
      }
    },
    {
      "cell_type": "code",
      "source": [
        "import tensorflow as tf\n",
        "\n",
        "x = [1,2,3,4]\n",
        "y = 5\n",
        "\n",
        "sd = tf.math.squared_difference(x,y)\n",
        "print(sd)\n",
        "\n",
        "\n"
      ],
      "metadata": {
        "colab": {
          "base_uri": "https://localhost:8080/"
        },
        "id": "Z4GBaayT5O_p",
        "outputId": "fc8476a3-77de-41d4-c182-8bbdb2c94bfa"
      },
      "execution_count": null,
      "outputs": [
        {
          "output_type": "stream",
          "name": "stdout",
          "text": [
            "tf.Tensor([16  9  4  1], shape=(4,), dtype=int32)\n"
          ]
        }
      ]
    },
    {
      "cell_type": "code",
      "source": [
        "x = tf.convert_to_tensor([1,2,3,4])\n",
        "y = 5\n",
        "\n",
        "sd = tf.math.squared_difference(x,y)\n",
        "print(sd)"
      ],
      "metadata": {
        "colab": {
          "base_uri": "https://localhost:8080/"
        },
        "id": "mRNugUEwAQJ3",
        "outputId": "cfd805f2-ce14-4e20-f8cc-745bd32556ce"
      },
      "execution_count": null,
      "outputs": [
        {
          "output_type": "stream",
          "name": "stdout",
          "text": [
            "tf.Tensor([16  9  4  1], shape=(4,), dtype=int32)\n"
          ]
        }
      ]
    },
    {
      "cell_type": "code",
      "source": [
        "import tensorflow as tf\n",
        "import numpy as np\n",
        "\n",
        "x = np.array([1,2,3,4])\n",
        "y = 5\n",
        "\n",
        "sd = tf.math.squared_difference(x,y)\n",
        "print(sd)"
      ],
      "metadata": {
        "colab": {
          "base_uri": "https://localhost:8080/"
        },
        "id": "9lWQBo7LAiF6",
        "outputId": "841993e0-748f-4455-fc69-8a6b8585fac1"
      },
      "execution_count": null,
      "outputs": [
        {
          "output_type": "stream",
          "name": "stdout",
          "text": [
            "tf.Tensor([16  9  4  1], shape=(4,), dtype=int64)\n"
          ]
        }
      ]
    },
    {
      "cell_type": "markdown",
      "source": [
        "**Sử dụng hàm sinh ra tensor phân phối chuẩn, đều**"
      ],
      "metadata": {
        "id": "UZj-34XjGNUx"
      }
    },
    {
      "cell_type": "code",
      "source": [
        "#hàm này sau này ứng dụng để sinh ra theta ngẫu nhiên\n",
        "\n",
        "import tensorflow as tf\n",
        "\n",
        "rand = tf.random.normal(shape = (3,2), mean = 0, stddev= 1)\n",
        "print(rand)"
      ],
      "metadata": {
        "colab": {
          "base_uri": "https://localhost:8080/"
        },
        "id": "9wNS5GjDAyAJ",
        "outputId": "8c6b7716-ed51-4f59-81c1-54f667072be0"
      },
      "execution_count": null,
      "outputs": [
        {
          "output_type": "stream",
          "name": "stdout",
          "text": [
            "tf.Tensor(\n",
            "[[ 1.2609682   0.12188428]\n",
            " [ 0.32075056  0.00384439]\n",
            " [ 0.4563132  -0.7065491 ]], shape=(3, 2), dtype=float32)\n"
          ]
        }
      ]
    },
    {
      "cell_type": "code",
      "source": [
        "import tensorflow as tf\n",
        "\n",
        "rand = tf.random.uniform(shape = (3,2), minval = 0,maxval = 9,dtype =tf.int32)\n",
        "\n",
        "print(rand)"
      ],
      "metadata": {
        "colab": {
          "base_uri": "https://localhost:8080/"
        },
        "id": "ehAYyVRTGjD4",
        "outputId": "c3ef37f2-5418-481c-97bb-73987125dad5"
      },
      "execution_count": null,
      "outputs": [
        {
          "output_type": "stream",
          "name": "stdout",
          "text": [
            "tf.Tensor(\n",
            "[[3 8]\n",
            " [7 1]\n",
            " [6 7]], shape=(3, 2), dtype=int32)\n"
          ]
        }
      ]
    },
    {
      "cell_type": "markdown",
      "source": [
        "**Hàm ghép 2 tensor**"
      ],
      "metadata": {
        "id": "Vh3zOCAXc64E"
      }
    },
    {
      "cell_type": "code",
      "source": [
        "import tensorflow as tf\n",
        "\n",
        "tensor_1 = tf.random.normal(shape =(2,2),mean = 0, stddev= 1)\n",
        "tensor_2 = tf.random.normal(shape =(2,2),mean = 0, stddev= 1)\n",
        "\n",
        "tensor_3 = tf.concat([tensor_1,tensor_2],axis = 0) #ghép theo dòng\n",
        "\n",
        "tensor_4 = tf.concat([tensor_1,tensor_2],axis = 1) #ghép theo cột\n",
        "\n",
        "print(tensor_1)\n",
        "print(tensor_2)\n",
        "print(tensor_3)\n",
        "print(tensor_4)\n",
        "print(tensor_1.shape)\n",
        "print(tensor_2.shape)\n",
        "print(tensor_3.shape)\n",
        "print(tensor_4.shape)"
      ],
      "metadata": {
        "colab": {
          "base_uri": "https://localhost:8080/"
        },
        "id": "Kk4e4xaUMIHt",
        "outputId": "edd83cae-8894-43db-a9df-42230eb428be"
      },
      "execution_count": null,
      "outputs": [
        {
          "output_type": "stream",
          "name": "stdout",
          "text": [
            "tf.Tensor(\n",
            "[[ 1.2365433  -0.87453663]\n",
            " [-0.00853013 -0.797084  ]], shape=(2, 2), dtype=float32)\n",
            "tf.Tensor(\n",
            "[[-1.4537518   0.98249143]\n",
            " [-0.44948336  0.7668248 ]], shape=(2, 2), dtype=float32)\n",
            "tf.Tensor(\n",
            "[[ 1.2365433  -0.87453663]\n",
            " [-0.00853013 -0.797084  ]\n",
            " [-1.4537518   0.98249143]\n",
            " [-0.44948336  0.7668248 ]], shape=(4, 2), dtype=float32)\n",
            "tf.Tensor(\n",
            "[[ 1.2365433  -0.87453663 -1.4537518   0.98249143]\n",
            " [-0.00853013 -0.797084   -0.44948336  0.7668248 ]], shape=(2, 4), dtype=float32)\n",
            "(2, 2)\n",
            "(2, 2)\n",
            "(4, 2)\n",
            "(2, 4)\n"
          ]
        }
      ]
    },
    {
      "cell_type": "markdown",
      "source": [
        "**Hàm argmin/ argmax**\n",
        "\n",
        "axis = 0 là lấy theo cột, axis = 1 là lấy theo dòng\n",
        "\n",
        "*   argmin kết quả trả về VỊ TRÍ mà có giá trị nhỏ nhất\n",
        "*   argmax kết quả trả về VỊ TRÍ mà có giá trị lớn nhất\n",
        "\n"
      ],
      "metadata": {
        "id": "cX0VrGlrfEMG"
      }
    },
    {
      "cell_type": "code",
      "source": [
        "import tensorflow as tf\n",
        "\n",
        "tensor = tf.random.uniform(shape = (3,6), minval = 0, maxval = 20,dtype = tf.int32)\n",
        "\n",
        "min_position_1 = tf.argmin(tensor,axis = 0) #lấy theo cột \n",
        "min_position_2 = tf.argmin(tensor,axis = 1) # lấy theo dòng\n",
        "\n",
        "print(tensor)\n",
        "print(min_position_1)\n",
        "print(min_position_2)"
      ],
      "metadata": {
        "colab": {
          "base_uri": "https://localhost:8080/"
        },
        "id": "44zcvwb0dKdq",
        "outputId": "9fd0f4bd-c4e9-4f93-cbc2-8987b9dea4a2"
      },
      "execution_count": null,
      "outputs": [
        {
          "output_type": "stream",
          "name": "stdout",
          "text": [
            "tf.Tensor(\n",
            "[[ 4 14 12  4 10  2]\n",
            " [10  0  9 12  3  8]\n",
            " [ 9 18  1 16  7  1]], shape=(3, 6), dtype=int32)\n",
            "tf.Tensor([0 1 2 0 1 2], shape=(6,), dtype=int64)\n",
            "tf.Tensor([5 1 2], shape=(3,), dtype=int64)\n"
          ]
        }
      ]
    },
    {
      "cell_type": "code",
      "source": [
        "import tensorflow as tf\n",
        "\n",
        "tensor = tf.random.uniform(shape = (3,6), minval = 0, maxval = 20,dtype = tf.int32)\n",
        "\n",
        "max_position_1 = tf.argmax(tensor,axis = 0) #lấy theo cột \n",
        "max_position_2 = tf.argmax(tensor,axis = 1) # lấy theo dòng\n",
        "\n",
        "print(tensor)\n",
        "print(max_position_1)\n",
        "print(max_position_2)"
      ],
      "metadata": {
        "colab": {
          "base_uri": "https://localhost:8080/"
        },
        "id": "wy3SMAcof3LT",
        "outputId": "8375888f-eb7d-4d97-cf02-a7357dabf893"
      },
      "execution_count": null,
      "outputs": [
        {
          "output_type": "stream",
          "name": "stdout",
          "text": [
            "tf.Tensor(\n",
            "[[19 16  7  7 11 11]\n",
            " [ 9  6  7  7  4 17]\n",
            " [11  6 12 19  6 18]], shape=(3, 6), dtype=int32)\n",
            "tf.Tensor([0 0 2 2 0 2], shape=(6,), dtype=int64)\n",
            "tf.Tensor([0 5 3], shape=(3,), dtype=int64)\n"
          ]
        }
      ]
    },
    {
      "cell_type": "markdown",
      "source": [
        "**Nhân hai ma trận**\n",
        "\n",
        "\n",
        "\n",
        "*   @\n",
        "*   matmul\n",
        "\n"
      ],
      "metadata": {
        "id": "2DcsmYm9jU2o"
      }
    },
    {
      "cell_type": "markdown",
      "source": [
        "**Ví dụ 1**"
      ],
      "metadata": {
        "id": "OSKrIpbJmSLZ"
      }
    },
    {
      "cell_type": "code",
      "source": [
        "import tensorflow as tf\n",
        "import numpy as np\n",
        "\n",
        "matrix1 = tf.convert_to_tensor([[1,2],[3,4]])\n",
        "matrix2 = tf.convert_to_tensor([[2,3],[2,1]])\n",
        "\n",
        "result1 = matrix1@matrix2\n",
        "print(result1)\n",
        "\n",
        "result2 = matrix2@matrix1\n",
        "print(result2)"
      ],
      "metadata": {
        "colab": {
          "base_uri": "https://localhost:8080/"
        },
        "id": "FOvafyBUhMYA",
        "outputId": "3efff827-cd87-4627-c4e1-093c7f0203ea"
      },
      "execution_count": null,
      "outputs": [
        {
          "output_type": "stream",
          "name": "stdout",
          "text": [
            "tf.Tensor(\n",
            "[[ 6  5]\n",
            " [14 13]], shape=(2, 2), dtype=int32)\n",
            "tf.Tensor(\n",
            "[[11 16]\n",
            " [ 5  8]], shape=(2, 2), dtype=int32)\n"
          ]
        }
      ]
    },
    {
      "cell_type": "markdown",
      "source": [
        "**Ví dụ 2**"
      ],
      "metadata": {
        "id": "GOHBL2t-mV00"
      }
    },
    {
      "cell_type": "code",
      "source": [
        "import tensorflow as tf\n",
        "import numpy as np\n",
        "\n",
        "matrix = tf.convert_to_tensor([[1,2],[3,4]])\n",
        "vector = tf.convert_to_tensor([1,2])\n",
        "\n",
        "print(matrix1.shape)\n",
        "print(vector.shape)\n",
        "\n",
        "vector = tf.reshape(vector,(2,1)) #để nhân hai ma trận thì phải đưa vecto về ma trận 2x1\n",
        "\n",
        "print(vector.shape)\n",
        "result1 = tf.matmul(matrix1,vector)\n",
        "print(result1)\n",
        "\n",
        "\n",
        "result2 = tf.matmul(tf.transpose(vector),matrix)\n",
        "print(result2)        \n"
      ],
      "metadata": {
        "colab": {
          "base_uri": "https://localhost:8080/"
        },
        "id": "VRHnEZV5j3vl",
        "outputId": "f216e726-eb61-4f28-ab96-686796cf9cdc"
      },
      "execution_count": 3,
      "outputs": [
        {
          "output_type": "stream",
          "name": "stdout",
          "text": [
            "(2, 2)\n",
            "(2,)\n",
            "(2, 1)\n",
            "tf.Tensor(\n",
            "[[ 5]\n",
            " [11]], shape=(2, 1), dtype=int32)\n",
            "tf.Tensor([[ 7 10]], shape=(1, 2), dtype=int32)\n"
          ]
        }
      ]
    },
    {
      "cell_type": "markdown",
      "source": [
        "***Hàm Variable***\n",
        "\n",
        "\n",
        "\n",
        "*   Tạo vector tham số\n",
        "*   Nó có thể thay thế bằng giá trị khác\n",
        "\n"
      ],
      "metadata": {
        "id": "Rk6gYp-B5UQL"
      }
    },
    {
      "cell_type": "markdown",
      "source": [
        "**Ví dụ 1**"
      ],
      "metadata": {
        "id": "xMcIkxEeF3VO"
      }
    },
    {
      "cell_type": "code",
      "source": [
        "import tensorflow as tf\n",
        "\n",
        "var = tf.Variable([1.0,2.0])\n",
        "print(var.numpy())\n",
        "\n",
        "var.assign([7,9])\n",
        "print(var.numpy())"
      ],
      "metadata": {
        "id": "KmcjkjUhnvBe",
        "colab": {
          "base_uri": "https://localhost:8080/"
        },
        "outputId": "9e8a6d40-9b47-44a8-a7d3-5832cb021a22"
      },
      "execution_count": 2,
      "outputs": [
        {
          "output_type": "stream",
          "name": "stdout",
          "text": [
            "[1. 2.]\n",
            "[7. 9.]\n"
          ]
        }
      ]
    },
    {
      "cell_type": "markdown",
      "source": [
        "**Ví dụ 2**"
      ],
      "metadata": {
        "id": "-wFBrggTF7nb"
      }
    },
    {
      "cell_type": "code",
      "source": [
        "import tensorflow as tf \n",
        "\n",
        "var = tf.Variable([1.0,2.0])\n",
        "\n",
        "var.assign_add([5,3])\n",
        "print(var.numpy())\n",
        "\n",
        "var.assign_sub([2,3])\n",
        "print(var.numpy())"
      ],
      "metadata": {
        "colab": {
          "base_uri": "https://localhost:8080/"
        },
        "id": "eD0kjBEn5plE",
        "outputId": "949146fd-8df4-4b2d-87f4-57ce12d491af"
      },
      "execution_count": 3,
      "outputs": [
        {
          "output_type": "stream",
          "name": "stdout",
          "text": [
            "[6. 5.]\n",
            "[4. 2.]\n"
          ]
        }
      ]
    },
    {
      "cell_type": "markdown",
      "source": [
        "***Hàm GradientTape***\n",
        "\n",
        "Tính đạo hàm "
      ],
      "metadata": {
        "id": "MmrB_KdgGajC"
      }
    },
    {
      "cell_type": "markdown",
      "source": [
        "**Ví dụ 1**    Cho \n",
        "\n",
        "$X = \\begin{bmatrix}\n",
        "x_1 & x_2 \\\\\n",
        "x_3 & x_4\n",
        "\\end{bmatrix}$\n",
        "\n",
        "$y = x_1 + x_2 + x_3 + x_4$, $z = y^2$\n",
        "Tính $\\frac{dz}{dx}$\n",
        "\n",
        "\n",
        "**Giải** \n",
        "\n",
        "$\\frac{dz}{dx_1}=\\frac{dz}{dy}\\frac{dy}{dx_1} = 2y$"
      ],
      "metadata": {
        "id": "vQhCw9uXHqAz"
      }
    },
    {
      "cell_type": "code",
      "source": [
        "import tensorflow as tf\n",
        "\n",
        "x = tf.ones((2,2))\n",
        "\n",
        "with tf.GradientTape() as t:\n",
        "    t.watch(x) #quan sát biến x, tại vì tính đạo hàm theo biến x\n",
        "    y = tf.reduce_sum(x)\n",
        "    z = tf.multiply(y,y)\n",
        "\n",
        "\n",
        "dz_dx = t.gradient(z,x)\n",
        "\n",
        "print(x)\n",
        "\n",
        "print(dz_dx)"
      ],
      "metadata": {
        "colab": {
          "base_uri": "https://localhost:8080/"
        },
        "id": "_B6Qepo0FjFX",
        "outputId": "6858705f-71b8-4982-ecd4-3dff5438a5a5"
      },
      "execution_count": 4,
      "outputs": [
        {
          "output_type": "stream",
          "name": "stdout",
          "text": [
            "tf.Tensor(\n",
            "[[1. 1.]\n",
            " [1. 1.]], shape=(2, 2), dtype=float32)\n",
            "tf.Tensor(\n",
            "[[8. 8.]\n",
            " [8. 8.]], shape=(2, 2), dtype=float32)\n"
          ]
        }
      ]
    },
    {
      "cell_type": "markdown",
      "source": [
        "**Ví dụ 2**\n",
        "\n",
        "Cho $x, y = x^2, z = y^2$. Tính $\\frac{dz}{dx}$"
      ],
      "metadata": {
        "id": "5JvCKXZkJs7M"
      }
    },
    {
      "cell_type": "code",
      "source": [
        "import tensorflow as tf \n",
        "\n",
        "x = tf.constant(3.0)\n",
        "\n",
        "with tf.GradientTape(persistent= True) as t: #muốn tính đạo hàm nhiều lần, persistent = True\n",
        "    t.watch(x) #tính đạo hàm theo x\n",
        "    y = x*x\n",
        "    z = y*y\n",
        "\n",
        "dz_dx = t.gradient(z,x)\n",
        "dy_dx = t.gradient(y,x)\n",
        "\n",
        "print(dz_dx)\n",
        "print(dy_dx)"
      ],
      "metadata": {
        "colab": {
          "base_uri": "https://localhost:8080/"
        },
        "id": "dPICfftfHgJA",
        "outputId": "76bc0b30-d834-4d9f-a93e-71dff73b97e0"
      },
      "execution_count": 6,
      "outputs": [
        {
          "output_type": "stream",
          "name": "stdout",
          "text": [
            "tf.Tensor(108.0, shape=(), dtype=float32)\n",
            "tf.Tensor(6.0, shape=(), dtype=float32)\n"
          ]
        }
      ]
    },
    {
      "cell_type": "markdown",
      "source": [
        "**Ví dụ 3**\n",
        "\n",
        "Cho $y = x^3$. Tính $y^{'}, y^{''}$"
      ],
      "metadata": {
        "id": "i6NMT7muMF3p"
      }
    },
    {
      "cell_type": "code",
      "source": [
        "import tensorflow as tf\n",
        "\n",
        "x = tf.Variable(1.0)\n",
        "\n",
        "with tf.GradientTape() as t1:\n",
        "    with tf.GradientTape() as t2:\n",
        "        y = x*x*x\n",
        "\n",
        "    dy_dx = t2.gradient(y,x)\n",
        "d2y_dx2 = t1.gradient(dy_dx,x)\n",
        "\n",
        "print(dy_dx)\n",
        "print(d2y_dx2)"
      ],
      "metadata": {
        "colab": {
          "base_uri": "https://localhost:8080/"
        },
        "id": "GfUTmtSYLP3C",
        "outputId": "540cbca1-5f0b-4975-84eb-8645a4cbc1ed"
      },
      "execution_count": 7,
      "outputs": [
        {
          "output_type": "stream",
          "name": "stdout",
          "text": [
            "tf.Tensor(3.0, shape=(), dtype=float32)\n",
            "tf.Tensor(6.0, shape=(), dtype=float32)\n"
          ]
        }
      ]
    },
    {
      "cell_type": "markdown",
      "source": [
        "**Ví dụ 4:** Áp dụng GradientTape vào bài toán Linear Regression\n"
      ],
      "metadata": {
        "id": "3T4gpMoyNo6v"
      }
    },
    {
      "cell_type": "code",
      "source": [
        "import tensorflow as tf\n",
        "\n",
        "w = tf.Variable([-0.34]) # các trọng số của mô hình mình dùng Variable để thay đổi trực tiếp\n",
        "b = tf.Variable([0.04])\n",
        "\n",
        "x = [6.7,4.6,3.5,5.5]\n",
        "x = tf.convert_to_tensor(x)\n",
        "\n",
        "print('b: \\n', b.numpy())\n",
        "print('w: \\n', w.numpy())\n",
        "print('x: \\n', x.numpy())\n",
        "\n",
        "\n",
        "with tf.GradientTape(persistent=True) as Tape:\n",
        "    y = tf.math.multiply(x,w)+b\n",
        "    print('y: \\n',y.numpy())\n",
        "\n",
        "    loss = tf.reduce_mean(y**2)\n",
        "    print('loss: \\n', loss.numpy())"
      ],
      "metadata": {
        "colab": {
          "base_uri": "https://localhost:8080/"
        },
        "id": "pwnb9WP9M35V",
        "outputId": "7d6c3aeb-9f87-4d00-ad05-c0d2bb60499d"
      },
      "execution_count": 11,
      "outputs": [
        {
          "output_type": "stream",
          "name": "stdout",
          "text": [
            "b: \n",
            " [0.04]\n",
            "w: \n",
            " [-0.34]\n",
            "x: \n",
            " [6.7 4.6 3.5 5.5]\n",
            "y: \n",
            " [-2.238     -1.524     -1.1500001 -1.83     ]\n",
            "loss: \n",
            " 3.0006552\n"
          ]
        }
      ]
    },
    {
      "cell_type": "code",
      "source": [
        ""
      ],
      "metadata": {
        "id": "FcCiV6SiOItM"
      },
      "execution_count": null,
      "outputs": []
    }
  ]
}